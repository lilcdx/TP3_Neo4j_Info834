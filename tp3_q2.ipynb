{
 "cells": [
  {
   "cell_type": "code",
   "execution_count": 21,
   "metadata": {},
   "outputs": [],
   "source": [
    "from neo4j import GraphDatabase\n",
    "import pandas as pd"
   ]
  },
  {
   "cell_type": "markdown",
   "metadata": {},
   "source": [
    "# Question 2"
   ]
  },
  {
   "cell_type": "markdown",
   "metadata": {},
   "source": [
    "On affiche les données pour pouvoir comprendre la structure et pouvoir les diviser dans le graphe"
   ]
  },
  {
   "cell_type": "code",
   "execution_count": 22,
   "metadata": {},
   "outputs": [
    {
     "name": "stdout",
     "output_type": "stream",
     "text": [
      "  code_commune_INSEE       nom_commune_postal  code_postal  \\\n",
      "0               1001  L ABERGEMENT CLEMENCIAT         1400   \n",
      "1               1002    L ABERGEMENT DE VAREY         1640   \n",
      "2               1004        AMBERIEU EN BUGEY         1500   \n",
      "3               1005      AMBERIEUX EN DOMBES         1330   \n",
      "4               1006                  AMBLEON         1300   \n",
      "\n",
      "      libelle_acheminement ligne_5   latitude  longitude  code_commune  \\\n",
      "0  L ABERGEMENT CLEMENCIAT     NaN  46.153426   4.926114           1.0   \n",
      "1    L ABERGEMENT DE VAREY     NaN  46.009188   5.428017           2.0   \n",
      "2        AMBERIEU EN BUGEY     NaN  45.960848   5.372926           4.0   \n",
      "3      AMBERIEUX EN DOMBES     NaN  45.996180   4.912273           5.0   \n",
      "4                  AMBLEON     NaN  45.749499   5.594320           6.0   \n",
      "\n",
      "  article            nom_commune      nom_commune_complet code_departement  \\\n",
      "0      L'  Abergement-Clémenciat  L'Abergement-Clémenciat                1   \n",
      "1      L'    Abergement-de-Varey    L'Abergement-de-Varey                1   \n",
      "2     NaN      Ambérieu-en-Bugey        Ambérieu-en-Bugey                1   \n",
      "3     NaN    Ambérieux-en-Dombes      Ambérieux-en-Dombes                1   \n",
      "4     NaN                Ambléon                  Ambléon                1   \n",
      "\n",
      "  nom_departement  code_region            nom_region  \n",
      "0             Ain         84.0  Auvergne-Rhône-Alpes  \n",
      "1             Ain         84.0  Auvergne-Rhône-Alpes  \n",
      "2             Ain         84.0  Auvergne-Rhône-Alpes  \n",
      "3             Ain         84.0  Auvergne-Rhône-Alpes  \n",
      "4             Ain         84.0  Auvergne-Rhône-Alpes  \n"
     ]
    }
   ],
   "source": [
    "df = pd.read_csv('communes-departement-region.csv')\n",
    "print(df.head())"
   ]
  },
  {
   "cell_type": "markdown",
   "metadata": {},
   "source": [
    "## Séparation des données"
   ]
  },
  {
   "cell_type": "markdown",
   "metadata": {},
   "source": [
    "On commence par créer des dataframes distincts pour les différents types de noeuds qu'on va créer"
   ]
  },
  {
   "cell_type": "markdown",
   "metadata": {},
   "source": [
    "### Régions"
   ]
  },
  {
   "cell_type": "code",
   "execution_count": 23,
   "metadata": {},
   "outputs": [
    {
     "name": "stdout",
     "output_type": "stream",
     "text": [
      "                    nom_region  code_region\n",
      "0         Auvergne-Rhône-Alpes         84.0\n",
      "1              Hauts-de-France         32.0\n",
      "2   Provence-Alpes-Côte d'Azur         93.0\n",
      "3                    Grand Est         44.0\n",
      "4                    Occitanie         76.0\n",
      "5                    Normandie         28.0\n",
      "6           Nouvelle-Aquitaine         75.0\n",
      "7          Centre-Val de Loire         24.0\n",
      "8      Bourgogne-Franche-Comté         27.0\n",
      "9                     Bretagne         53.0\n",
      "10                       Corse         94.0\n",
      "11            Pays de la Loire         52.0\n",
      "12               Île-de-France         11.0\n",
      "13                  Guadeloupe          1.0\n",
      "14                  Martinique          2.0\n",
      "15                      Guyane          3.0\n",
      "16                  La Réunion          4.0\n",
      "18                     Mayotte          6.0\n"
     ]
    }
   ],
   "source": [
    "df_regions = df[['nom_region','code_region']].drop_duplicates().reset_index(drop=True)\n",
    "df_regions  = df_regions.dropna()\n",
    "\n",
    "print(df_regions)"
   ]
  },
  {
   "cell_type": "markdown",
   "metadata": {},
   "source": [
    "### Départements"
   ]
  },
  {
   "cell_type": "markdown",
   "metadata": {},
   "source": [
    "On garde bien le code de la région auquel il est associé pour pouvoir relier les régions et les départements"
   ]
  },
  {
   "cell_type": "code",
   "execution_count": 24,
   "metadata": {},
   "outputs": [
    {
     "name": "stdout",
     "output_type": "stream",
     "text": [
      "             nom_departement code_departement  code_region\n",
      "0                        Ain                1         84.0\n",
      "1                      Aisne                2         32.0\n",
      "2                     Allier                3         84.0\n",
      "3    Alpes-de-Haute-Provence                4         93.0\n",
      "4               Hautes-Alpes                5         93.0\n",
      "..                       ...              ...          ...\n",
      "96                Guadeloupe              971          1.0\n",
      "97                Martinique              972          2.0\n",
      "98                    Guyane              973          3.0\n",
      "99                La Réunion              974          4.0\n",
      "101                  Mayotte              976          6.0\n",
      "\n",
      "[101 rows x 3 columns]\n"
     ]
    }
   ],
   "source": [
    "df_dep = df[['nom_departement','code_departement', 'code_region']].drop_duplicates().reset_index(drop=True)\n",
    "df_dep  = df_dep.dropna()\n",
    "\n",
    "print(df_dep)"
   ]
  },
  {
   "cell_type": "markdown",
   "metadata": {},
   "source": [
    "### Communes "
   ]
  },
  {
   "cell_type": "markdown",
   "metadata": {},
   "source": [
    "De même, on garde le code du département"
   ]
  },
  {
   "cell_type": "code",
   "execution_count": 25,
   "metadata": {},
   "outputs": [
    {
     "name": "stdout",
     "output_type": "stream",
     "text": [
      "                 nom_commune  code_commune code_departement\n",
      "0      Abergement-Clémenciat           1.0                1\n",
      "1        Abergement-de-Varey           2.0                1\n",
      "2          Ambérieu-en-Bugey           4.0                1\n",
      "3        Ambérieux-en-Dombes           5.0                1\n",
      "4                    Ambléon           6.0                1\n",
      "...                      ...           ...              ...\n",
      "36008                    Voh         831.0               98\n",
      "36009                   Yate         832.0               98\n",
      "36010                Kouaoua         833.0               98\n",
      "36011      Ile de clipperton         901.0               98\n",
      "36012                 Monaco         138.0               99\n",
      "\n",
      "[36010 rows x 3 columns]\n"
     ]
    }
   ],
   "source": [
    "df_com = df[['nom_commune','code_commune', 'code_departement']].drop_duplicates().reset_index(drop=True)\n",
    "df_com  = df_com.dropna()\n",
    "\n",
    "print(df_com)"
   ]
  },
  {
   "cell_type": "markdown",
   "metadata": {},
   "source": [
    "## Création du graphe"
   ]
  },
  {
   "cell_type": "markdown",
   "metadata": {},
   "source": [
    "### Connexion au serveur neo4j"
   ]
  },
  {
   "cell_type": "code",
   "execution_count": 26,
   "metadata": {},
   "outputs": [],
   "source": [
    "uri = \"bolt://localhost:7687\"\n",
    "driver = GraphDatabase.driver(uri, auth=(\"neo4j\", \"neo4j\"))"
   ]
  },
  {
   "cell_type": "markdown",
   "metadata": {},
   "source": [
    "### Remise à zéro"
   ]
  },
  {
   "cell_type": "code",
   "execution_count": 27,
   "metadata": {},
   "outputs": [],
   "source": [
    "with driver.session() as session:\n",
    "    session.run(\"MATCH (n:region) DETACH DELETE n\")\n",
    "    session.run(\"MATCH (n:departement) DETACH DELETE n\")\n",
    "    session.run(\"MATCH (n:commune) DETACH DELETE n\")\n",
    "    session.run(\"MATCH (n:region_v2) DETACH DELETE n\")\n",
    "    session.run(\"MATCH (n:departement_v2) DETACH DELETE n\")\n",
    "    session.run(\"MATCH (n:commune_v2) DETACH DELETE n\")\n",
    "    \n"
   ]
  },
  {
   "cell_type": "markdown",
   "metadata": {},
   "source": [
    "### Création des noeuds"
   ]
  },
  {
   "cell_type": "code",
   "execution_count": 28,
   "metadata": {},
   "outputs": [],
   "source": [
    "with driver.session() as session:\n",
    "    #Création des régions\n",
    "    for id, row in df_regions.iterrows() :\n",
    "        session.run(\"CREATE (n:region {name: $name, code: $code})\", name=row['nom_region'], code=row['code_region'])\n",
    "    \n",
    "    #Création des départements\n",
    "    for id, row in df_dep.iterrows() :\n",
    "        session.run(\"CREATE (n:departement {name: $name, code: $code, region: $region})\", name=row['nom_departement'], code=row['code_departement'], region=row['code_region'])\n",
    "    \n",
    "    #Création des communes\n",
    "    for id, row in df_com.iterrows() :\n",
    "                session.run(\"CREATE (n:departement {name: $name, code: $code, departement: $region})\", name=row['nom_commune'], code=row['code_commune'], region=row['code_departement'])\n"
   ]
  },
  {
   "cell_type": "markdown",
   "metadata": {},
   "source": [
    "### Création des relations"
   ]
  },
  {
   "cell_type": "code",
   "execution_count": 29,
   "metadata": {},
   "outputs": [],
   "source": [
    "with driver.session() as session:\n",
    "    # liaison région/département\n",
    "    session.run(\"MATCH (r:region),(d:departement) WHERE r.code = d.region_code CREATE (r)-[A:APPARTIENT_A]->(d)\")\n",
    "    \n",
    "    #liaison département/commune\n",
    "    session.run(\"MATCH (d:departement),(c:commune) WHERE d.code = c.departement_code CREATE (d)-[A:APPARTIENT_A]->(c)\")"
   ]
  }
 ],
 "metadata": {
  "kernelspec": {
   "display_name": "Python 3",
   "language": "python",
   "name": "python3"
  },
  "language_info": {
   "codemirror_mode": {
    "name": "ipython",
    "version": 3
   },
   "file_extension": ".py",
   "mimetype": "text/x-python",
   "name": "python",
   "nbconvert_exporter": "python",
   "pygments_lexer": "ipython3",
   "version": "3.11.8"
  }
 },
 "nbformat": 4,
 "nbformat_minor": 2
}
