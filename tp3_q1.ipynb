{
 "cells": [
  {
   "cell_type": "markdown",
   "metadata": {},
   "source": [
    "# TP3 : Neo4j"
   ]
  },
  {
   "cell_type": "code",
   "execution_count": 50,
   "metadata": {},
   "outputs": [],
   "source": [
    "from neo4j import GraphDatabase"
   ]
  },
  {
   "cell_type": "markdown",
   "metadata": {},
   "source": [
    "## Question 1 "
   ]
  },
  {
   "cell_type": "markdown",
   "metadata": {},
   "source": [
    "### Exemple des universités"
   ]
  },
  {
   "cell_type": "code",
   "execution_count": 51,
   "metadata": {},
   "outputs": [
    {
     "name": "stdout",
     "output_type": "stream",
     "text": [
      "List of Ivy League universities present in the graph:\n",
      "<Record x=<Node element_id='4:e24570d5-879c-4ca5-b2f2-08d7b506c520:16' labels=frozenset({'university'}) properties={'name': 'Cornell University'}>>\n",
      "<Record x=<Node element_id='4:e24570d5-879c-4ca5-b2f2-08d7b506c520:17' labels=frozenset({'university'}) properties={'name': 'Yale University'}>>\n",
      "<Record x=<Node element_id='4:e24570d5-879c-4ca5-b2f2-08d7b506c520:18' labels=frozenset({'university'}) properties={'name': 'Princeton University'}>>\n",
      "<Record x=<Node element_id='4:e24570d5-879c-4ca5-b2f2-08d7b506c520:19' labels=frozenset({'university'}) properties={'name': 'Harvard University'}>>\n",
      "Distance from Yale University to the other Ivy League universities present in the graph:\n",
      "<Record y.name='Princeton University' r.miles=133>\n",
      "<Record y.name='Harvard University' r.miles=133>\n",
      "<Record y.name='Cornell University' r.miles=259>\n"
     ]
    }
   ],
   "source": [
    "# Database Credentials\n",
    "\n",
    "uri             = \"bolt://localhost:7687\"\n",
    "\n",
    "userName        = \"neo4j\"\n",
    "\n",
    "password        = \"test\"\n",
    "\n",
    " \n",
    "\n",
    "# Connect to the neo4j database server\n",
    "\n",
    "graphDB_Driver  = GraphDatabase.driver(uri, auth=(userName, password))\n",
    "\n",
    " \n",
    "\n",
    "# CQL to query all the universities present in the graph\n",
    "\n",
    "cqlNodeQuery          = \"MATCH (x:university) RETURN x\"\n",
    "\n",
    " \n",
    "\n",
    "# CQL to query the distances from Yale to some of the other Ivy League universities\n",
    "\n",
    "cqlEdgeQuery          = \"MATCH (x:university {name:'Yale University'})-[r]->(y:university) RETURN y.name,r.miles\"\n",
    "\n",
    " \n",
    "\n",
    "# CQL to create a graph containing some of the Ivy League universities\n",
    "\n",
    "cqlCreate = \"\"\"CREATE (cornell:university { name: \"Cornell University\"}),\n",
    "\n",
    "(yale:university { name: \"Yale University\"}),\n",
    "\n",
    "(princeton:university { name: \"Princeton University\"}),\n",
    "\n",
    "(harvard:university { name: \"Harvard University\"}),\n",
    "\n",
    " \n",
    "\n",
    "(cornell)-[:connects_in {miles: 259}]->(yale),\n",
    "\n",
    "(cornell)-[:connects_in {miles: 210}]->(princeton),\n",
    "\n",
    "(cornell)-[:connects_in {miles: 327}]->(harvard),\n",
    "\n",
    " \n",
    "\n",
    "(yale)-[:connects_in {miles: 259}]->(cornell),\n",
    "\n",
    "(yale)-[:connects_in {miles: 133}]->(princeton),\n",
    "\n",
    "(yale)-[:connects_in {miles: 133}]->(harvard),\n",
    "\n",
    " \n",
    "\n",
    "(harvard)-[:connects_in {miles: 327}]->(cornell),\n",
    "\n",
    "(harvard)-[:connects_in {miles: 133}]->(yale),\n",
    "\n",
    "(harvard)-[:connects_in {miles: 260}]->(princeton),\n",
    "\n",
    " \n",
    "\n",
    "(princeton)-[:connects_in {miles: 210}]->(cornell),\n",
    "\n",
    "(princeton)-[:connects_in {miles: 133}]->(yale),\n",
    "\n",
    "(princeton)-[:connects_in {miles: 260}]->(harvard)\"\"\"\n",
    "\n",
    "# CQL to delete all\n",
    "\n",
    "cqlDeleteAll = \"MATCH (n) DETACH DELETE n\"\n",
    "\n",
    "# Execute the CQL query\n",
    "\n",
    "with graphDB_Driver.session() as graphDB_Session:\n",
    "    \n",
    "    # Delete all nodes and relationships\n",
    "    graphDB_Session.run(cqlDeleteAll)\n",
    "\n",
    "    # Create nodes\n",
    "\n",
    "    graphDB_Session.run(cqlCreate)\n",
    "\n",
    "   \n",
    "\n",
    "    # Query the graph    \n",
    "\n",
    "    nodes = graphDB_Session.run(cqlNodeQuery)\n",
    "\n",
    "   \n",
    "\n",
    "    print(\"List of Ivy League universities present in the graph:\")\n",
    "\n",
    "    for node in nodes:\n",
    "\n",
    "        print(node)\n",
    "\n",
    " \n",
    "\n",
    "    # Query the relationships present in the graph\n",
    "\n",
    "    nodes = graphDB_Session.run(cqlEdgeQuery)\n",
    "\n",
    "   \n",
    "\n",
    "    print(\"Distance from Yale University to the other Ivy League universities present in the graph:\")\n",
    "\n",
    "    for node in nodes:\n",
    "\n",
    "        print(node)"
   ]
  },
  {
   "cell_type": "markdown",
   "metadata": {},
   "source": [
    "### Récupérer tous les noeuds"
   ]
  },
  {
   "cell_type": "code",
   "execution_count": 52,
   "metadata": {},
   "outputs": [
    {
     "name": "stdout",
     "output_type": "stream",
     "text": [
      "<Record n=<Node element_id='4:e24570d5-879c-4ca5-b2f2-08d7b506c520:16' labels=frozenset({'university'}) properties={'name': 'Cornell University'}>>\n",
      "<Record n=<Node element_id='4:e24570d5-879c-4ca5-b2f2-08d7b506c520:17' labels=frozenset({'university'}) properties={'name': 'Yale University'}>>\n",
      "<Record n=<Node element_id='4:e24570d5-879c-4ca5-b2f2-08d7b506c520:18' labels=frozenset({'university'}) properties={'name': 'Princeton University'}>>\n",
      "<Record n=<Node element_id='4:e24570d5-879c-4ca5-b2f2-08d7b506c520:19' labels=frozenset({'university'}) properties={'name': 'Harvard University'}>>\n"
     ]
    }
   ],
   "source": [
    "def get_all_nodes(database):\n",
    "    \"\"\"Permet d'afficher tous les noeuds de la database en entrée\"\"\"\n",
    "    with graphDB_Driver.session() as graphDB_Session:\n",
    "        cqlGetAllNodes = f\"MATCH (n:{database}) RETURN n\"\n",
    "        nodes = graphDB_Session.run(cqlGetAllNodes)\n",
    "        for node in nodes :\n",
    "            print(node)\n",
    "        \n",
    "get_all_nodes('university')\n"
   ]
  },
  {
   "cell_type": "markdown",
   "metadata": {},
   "source": [
    "### Récupérer un noeud par id"
   ]
  },
  {
   "cell_type": "code",
   "execution_count": 53,
   "metadata": {},
   "outputs": [
    {
     "name": "stdout",
     "output_type": "stream",
     "text": [
      "MATCH (n:university) WHERE id(n) = 15 RETURN n\n"
     ]
    }
   ],
   "source": [
    "def get_node_by_id(database, id):\n",
    "    \"\"\"Renvoie le noeud correspondant à l'id en paramètre pour la database en entrée\"\"\"\n",
    "    with graphDB_Driver.session() as graphDB_Session:\n",
    "        cqlGetNode = f\"MATCH (n:{database}) WHERE id(n) = {id} RETURN n\"\n",
    "        print(cqlGetNode)\n",
    "        nodes = graphDB_Session.run(cqlGetNode)\n",
    "        for node in nodes :\n",
    "            print(node)\n",
    "\n",
    "get_node_by_id('university', '15')"
   ]
  },
  {
   "cell_type": "markdown",
   "metadata": {},
   "source": [
    "### Récupérer des noeuds par leur label"
   ]
  },
  {
   "cell_type": "code",
   "execution_count": 54,
   "metadata": {},
   "outputs": [
    {
     "name": "stdout",
     "output_type": "stream",
     "text": [
      "MATCH (n:university) WHERE 'university' IN labels(n) RETURN n\n",
      "<Record n=<Node element_id='4:e24570d5-879c-4ca5-b2f2-08d7b506c520:16' labels=frozenset({'university'}) properties={'name': 'Cornell University'}>>\n",
      "<Record n=<Node element_id='4:e24570d5-879c-4ca5-b2f2-08d7b506c520:17' labels=frozenset({'university'}) properties={'name': 'Yale University'}>>\n",
      "<Record n=<Node element_id='4:e24570d5-879c-4ca5-b2f2-08d7b506c520:18' labels=frozenset({'university'}) properties={'name': 'Princeton University'}>>\n",
      "<Record n=<Node element_id='4:e24570d5-879c-4ca5-b2f2-08d7b506c520:19' labels=frozenset({'university'}) properties={'name': 'Harvard University'}>>\n"
     ]
    }
   ],
   "source": [
    "def get_nodes_by_label(database, label):\n",
    "    \"\"\"Renvoie les noms comportant le label en paramètre dans leur labels, pour la database en entrée\"\"\"\n",
    "    with graphDB_Driver.session() as graphDB_Session:\n",
    "        cqlGetNodesByLabel = f\"MATCH (n:{database}) WHERE '{label}' IN labels(n) RETURN n\"\n",
    "        print(cqlGetNodesByLabel)\n",
    "        nodes = graphDB_Session.run(cqlGetNodesByLabel)\n",
    "        for node in nodes :\n",
    "            print(node)\n",
    "\n",
    "get_nodes_by_label('university', 'university')"
   ]
  },
  {
   "cell_type": "markdown",
   "metadata": {},
   "source": [
    "### Récupérer les relations"
   ]
  },
  {
   "cell_type": "code",
   "execution_count": 55,
   "metadata": {},
   "outputs": [
    {
     "name": "stdout",
     "output_type": "stream",
     "text": [
      "<Record r=<Relationship element_id='5:e24570d5-879c-4ca5-b2f2-08d7b506c520:49' nodes=(<Node element_id='4:e24570d5-879c-4ca5-b2f2-08d7b506c520:16' labels=frozenset() properties={}>, <Node element_id='4:e24570d5-879c-4ca5-b2f2-08d7b506c520:18' labels=frozenset() properties={}>) type='connects_in' properties={'miles': 210}>>\n",
      "<Record r=<Relationship element_id='5:e24570d5-879c-4ca5-b2f2-08d7b506c520:50' nodes=(<Node element_id='4:e24570d5-879c-4ca5-b2f2-08d7b506c520:16' labels=frozenset() properties={}>, <Node element_id='4:e24570d5-879c-4ca5-b2f2-08d7b506c520:19' labels=frozenset() properties={}>) type='connects_in' properties={'miles': 327}>>\n",
      "<Record r=<Relationship element_id='5:e24570d5-879c-4ca5-b2f2-08d7b506c520:48' nodes=(<Node element_id='4:e24570d5-879c-4ca5-b2f2-08d7b506c520:16' labels=frozenset() properties={}>, <Node element_id='4:e24570d5-879c-4ca5-b2f2-08d7b506c520:17' labels=frozenset() properties={}>) type='connects_in' properties={'miles': 259}>>\n",
      "<Record r=<Relationship element_id='5:e24570d5-879c-4ca5-b2f2-08d7b506c520:52' nodes=(<Node element_id='4:e24570d5-879c-4ca5-b2f2-08d7b506c520:17' labels=frozenset() properties={}>, <Node element_id='4:e24570d5-879c-4ca5-b2f2-08d7b506c520:18' labels=frozenset() properties={}>) type='connects_in' properties={'miles': 133}>>\n",
      "<Record r=<Relationship element_id='5:e24570d5-879c-4ca5-b2f2-08d7b506c520:53' nodes=(<Node element_id='4:e24570d5-879c-4ca5-b2f2-08d7b506c520:17' labels=frozenset() properties={}>, <Node element_id='4:e24570d5-879c-4ca5-b2f2-08d7b506c520:19' labels=frozenset() properties={}>) type='connects_in' properties={'miles': 133}>>\n",
      "<Record r=<Relationship element_id='5:e24570d5-879c-4ca5-b2f2-08d7b506c520:51' nodes=(<Node element_id='4:e24570d5-879c-4ca5-b2f2-08d7b506c520:17' labels=frozenset() properties={}>, <Node element_id='4:e24570d5-879c-4ca5-b2f2-08d7b506c520:16' labels=frozenset() properties={}>) type='connects_in' properties={'miles': 259}>>\n",
      "<Record r=<Relationship element_id='5:e24570d5-879c-4ca5-b2f2-08d7b506c520:59' nodes=(<Node element_id='4:e24570d5-879c-4ca5-b2f2-08d7b506c520:18' labels=frozenset() properties={}>, <Node element_id='4:e24570d5-879c-4ca5-b2f2-08d7b506c520:19' labels=frozenset() properties={}>) type='connects_in' properties={'miles': 260}>>\n",
      "<Record r=<Relationship element_id='5:e24570d5-879c-4ca5-b2f2-08d7b506c520:58' nodes=(<Node element_id='4:e24570d5-879c-4ca5-b2f2-08d7b506c520:18' labels=frozenset() properties={}>, <Node element_id='4:e24570d5-879c-4ca5-b2f2-08d7b506c520:17' labels=frozenset() properties={}>) type='connects_in' properties={'miles': 133}>>\n",
      "<Record r=<Relationship element_id='5:e24570d5-879c-4ca5-b2f2-08d7b506c520:57' nodes=(<Node element_id='4:e24570d5-879c-4ca5-b2f2-08d7b506c520:18' labels=frozenset() properties={}>, <Node element_id='4:e24570d5-879c-4ca5-b2f2-08d7b506c520:16' labels=frozenset() properties={}>) type='connects_in' properties={'miles': 210}>>\n",
      "<Record r=<Relationship element_id='5:e24570d5-879c-4ca5-b2f2-08d7b506c520:56' nodes=(<Node element_id='4:e24570d5-879c-4ca5-b2f2-08d7b506c520:19' labels=frozenset() properties={}>, <Node element_id='4:e24570d5-879c-4ca5-b2f2-08d7b506c520:18' labels=frozenset() properties={}>) type='connects_in' properties={'miles': 260}>>\n",
      "<Record r=<Relationship element_id='5:e24570d5-879c-4ca5-b2f2-08d7b506c520:55' nodes=(<Node element_id='4:e24570d5-879c-4ca5-b2f2-08d7b506c520:19' labels=frozenset() properties={}>, <Node element_id='4:e24570d5-879c-4ca5-b2f2-08d7b506c520:17' labels=frozenset() properties={}>) type='connects_in' properties={'miles': 133}>>\n",
      "<Record r=<Relationship element_id='5:e24570d5-879c-4ca5-b2f2-08d7b506c520:54' nodes=(<Node element_id='4:e24570d5-879c-4ca5-b2f2-08d7b506c520:19' labels=frozenset() properties={}>, <Node element_id='4:e24570d5-879c-4ca5-b2f2-08d7b506c520:16' labels=frozenset() properties={}>) type='connects_in' properties={'miles': 327}>>\n"
     ]
    }
   ],
   "source": [
    "def get_all_relationships(database):\n",
    "    \"\"\"Permet d'afficher toutes les relations présentes dans la database en entrée\"\"\"\n",
    "    with graphDB_Driver.session() as session:\n",
    "        cqlGetAllRelationships = session.run(f\"MATCH (n:{database})-[r]->(m) RETURN r\")\n",
    "        for r in cqlGetAllRelationships:\n",
    "            print(r)\n",
    "            \n",
    "get_all_relationships('university')"
   ]
  },
  {
   "cell_type": "markdown",
   "metadata": {},
   "source": [
    "### Récupérer les relations d'un noeud"
   ]
  },
  {
   "cell_type": "code",
   "execution_count": 56,
   "metadata": {},
   "outputs": [
    {
     "name": "stdout",
     "output_type": "stream",
     "text": [
      "<Record r=<Relationship element_id='5:e24570d5-879c-4ca5-b2f2-08d7b506c520:59' nodes=(<Node element_id='4:e24570d5-879c-4ca5-b2f2-08d7b506c520:18' labels=frozenset() properties={}>, <Node element_id='4:e24570d5-879c-4ca5-b2f2-08d7b506c520:19' labels=frozenset() properties={}>) type='connects_in' properties={'miles': 260}>>\n",
      "<Record r=<Relationship element_id='5:e24570d5-879c-4ca5-b2f2-08d7b506c520:58' nodes=(<Node element_id='4:e24570d5-879c-4ca5-b2f2-08d7b506c520:18' labels=frozenset() properties={}>, <Node element_id='4:e24570d5-879c-4ca5-b2f2-08d7b506c520:17' labels=frozenset() properties={}>) type='connects_in' properties={'miles': 133}>>\n",
      "<Record r=<Relationship element_id='5:e24570d5-879c-4ca5-b2f2-08d7b506c520:57' nodes=(<Node element_id='4:e24570d5-879c-4ca5-b2f2-08d7b506c520:18' labels=frozenset() properties={}>, <Node element_id='4:e24570d5-879c-4ca5-b2f2-08d7b506c520:16' labels=frozenset() properties={}>) type='connects_in' properties={'miles': 210}>>\n"
     ]
    }
   ],
   "source": [
    "def get_node_relationships(database, node) :\n",
    "    \"\"\"Permet d'afficher toutes les relations du noeud dont le nom est en entrée pour la database en entrée\"\"\"\n",
    "    with graphDB_Driver.session() as graphDB_Session:\n",
    "        cqlGetNodeRelationships = f\"MATCH (n:{database}\" + \"{name:'\" + node + \"'}\" + f\")-[r]->(m:{database}) RETURN r\"\n",
    "        result = graphDB_Session.run(cqlGetNodeRelationships)\n",
    "        for r in result :\n",
    "            print(r)\n",
    "\n",
    "get_node_relationships('university', 'Princeton University')"
   ]
  },
  {
   "cell_type": "markdown",
   "metadata": {},
   "source": [
    "### Récupérer une relation par son id"
   ]
  },
  {
   "cell_type": "code",
   "execution_count": 64,
   "metadata": {},
   "outputs": [
    {
     "name": "stdout",
     "output_type": "stream",
     "text": [
      "<Record r=<Relationship element_id='5:e24570d5-879c-4ca5-b2f2-08d7b506c520:58' nodes=(<Node element_id='4:e24570d5-879c-4ca5-b2f2-08d7b506c520:18' labels=frozenset() properties={}>, <Node element_id='4:e24570d5-879c-4ca5-b2f2-08d7b506c520:17' labels=frozenset() properties={}>) type='connects_in' properties={'miles': 133}>>\n"
     ]
    }
   ],
   "source": [
    "def get_relationship_by_id(database, id):\n",
    "    \"\"\"Renvoie la relation correspondant à l'id en paramètre pour la database en entrée\"\"\"\n",
    "    with graphDB_Driver.session() as graphDB_Session:\n",
    "        cqlGetR = f\"MATCH (n:{database})-[r]->(m) WHERE id(r) = {id} RETURN r\"\n",
    "        all_r = graphDB_Session.run(cqlGetR)\n",
    "        for r in all_r :\n",
    "            print(r)\n",
    "\n",
    "get_relationship_by_id('university', '58')"
   ]
  },
  {
   "cell_type": "markdown",
   "metadata": {},
   "source": [
    "### Récupérer des relations par leur type"
   ]
  },
  {
   "cell_type": "code",
   "execution_count": 65,
   "metadata": {},
   "outputs": [
    {
     "name": "stdout",
     "output_type": "stream",
     "text": [
      "MATCH (n:university)-[r]->(m) WHERE type(r) = 'connects_in' RETURN r\n",
      "<Record r=<Relationship element_id='5:e24570d5-879c-4ca5-b2f2-08d7b506c520:49' nodes=(<Node element_id='4:e24570d5-879c-4ca5-b2f2-08d7b506c520:16' labels=frozenset() properties={}>, <Node element_id='4:e24570d5-879c-4ca5-b2f2-08d7b506c520:18' labels=frozenset() properties={}>) type='connects_in' properties={'miles': 210}>>\n",
      "<Record r=<Relationship element_id='5:e24570d5-879c-4ca5-b2f2-08d7b506c520:50' nodes=(<Node element_id='4:e24570d5-879c-4ca5-b2f2-08d7b506c520:16' labels=frozenset() properties={}>, <Node element_id='4:e24570d5-879c-4ca5-b2f2-08d7b506c520:19' labels=frozenset() properties={}>) type='connects_in' properties={'miles': 327}>>\n",
      "<Record r=<Relationship element_id='5:e24570d5-879c-4ca5-b2f2-08d7b506c520:48' nodes=(<Node element_id='4:e24570d5-879c-4ca5-b2f2-08d7b506c520:16' labels=frozenset() properties={}>, <Node element_id='4:e24570d5-879c-4ca5-b2f2-08d7b506c520:17' labels=frozenset() properties={}>) type='connects_in' properties={'miles': 259}>>\n",
      "<Record r=<Relationship element_id='5:e24570d5-879c-4ca5-b2f2-08d7b506c520:52' nodes=(<Node element_id='4:e24570d5-879c-4ca5-b2f2-08d7b506c520:17' labels=frozenset() properties={}>, <Node element_id='4:e24570d5-879c-4ca5-b2f2-08d7b506c520:18' labels=frozenset() properties={}>) type='connects_in' properties={'miles': 133}>>\n",
      "<Record r=<Relationship element_id='5:e24570d5-879c-4ca5-b2f2-08d7b506c520:53' nodes=(<Node element_id='4:e24570d5-879c-4ca5-b2f2-08d7b506c520:17' labels=frozenset() properties={}>, <Node element_id='4:e24570d5-879c-4ca5-b2f2-08d7b506c520:19' labels=frozenset() properties={}>) type='connects_in' properties={'miles': 133}>>\n",
      "<Record r=<Relationship element_id='5:e24570d5-879c-4ca5-b2f2-08d7b506c520:51' nodes=(<Node element_id='4:e24570d5-879c-4ca5-b2f2-08d7b506c520:17' labels=frozenset() properties={}>, <Node element_id='4:e24570d5-879c-4ca5-b2f2-08d7b506c520:16' labels=frozenset() properties={}>) type='connects_in' properties={'miles': 259}>>\n",
      "<Record r=<Relationship element_id='5:e24570d5-879c-4ca5-b2f2-08d7b506c520:59' nodes=(<Node element_id='4:e24570d5-879c-4ca5-b2f2-08d7b506c520:18' labels=frozenset() properties={}>, <Node element_id='4:e24570d5-879c-4ca5-b2f2-08d7b506c520:19' labels=frozenset() properties={}>) type='connects_in' properties={'miles': 260}>>\n",
      "<Record r=<Relationship element_id='5:e24570d5-879c-4ca5-b2f2-08d7b506c520:58' nodes=(<Node element_id='4:e24570d5-879c-4ca5-b2f2-08d7b506c520:18' labels=frozenset() properties={}>, <Node element_id='4:e24570d5-879c-4ca5-b2f2-08d7b506c520:17' labels=frozenset() properties={}>) type='connects_in' properties={'miles': 133}>>\n",
      "<Record r=<Relationship element_id='5:e24570d5-879c-4ca5-b2f2-08d7b506c520:57' nodes=(<Node element_id='4:e24570d5-879c-4ca5-b2f2-08d7b506c520:18' labels=frozenset() properties={}>, <Node element_id='4:e24570d5-879c-4ca5-b2f2-08d7b506c520:16' labels=frozenset() properties={}>) type='connects_in' properties={'miles': 210}>>\n",
      "<Record r=<Relationship element_id='5:e24570d5-879c-4ca5-b2f2-08d7b506c520:56' nodes=(<Node element_id='4:e24570d5-879c-4ca5-b2f2-08d7b506c520:19' labels=frozenset() properties={}>, <Node element_id='4:e24570d5-879c-4ca5-b2f2-08d7b506c520:18' labels=frozenset() properties={}>) type='connects_in' properties={'miles': 260}>>\n",
      "<Record r=<Relationship element_id='5:e24570d5-879c-4ca5-b2f2-08d7b506c520:55' nodes=(<Node element_id='4:e24570d5-879c-4ca5-b2f2-08d7b506c520:19' labels=frozenset() properties={}>, <Node element_id='4:e24570d5-879c-4ca5-b2f2-08d7b506c520:17' labels=frozenset() properties={}>) type='connects_in' properties={'miles': 133}>>\n",
      "<Record r=<Relationship element_id='5:e24570d5-879c-4ca5-b2f2-08d7b506c520:54' nodes=(<Node element_id='4:e24570d5-879c-4ca5-b2f2-08d7b506c520:19' labels=frozenset() properties={}>, <Node element_id='4:e24570d5-879c-4ca5-b2f2-08d7b506c520:16' labels=frozenset() properties={}>) type='connects_in' properties={'miles': 327}>>\n"
     ]
    }
   ],
   "source": [
    "def get_relationships_by_type(database, type):\n",
    "    \"\"\"Renvoie les relations du type en paramètre pour la database en entrée\"\"\"\n",
    "    with graphDB_Driver.session() as graphDB_Session:\n",
    "        cqlGetR = f\"MATCH (n:{database})-[r]->(m) WHERE type(r) = '{type}' RETURN r\"\n",
    "        print(cqlGetR)\n",
    "        all_r = graphDB_Session.run(cqlGetR)\n",
    "        for r in all_r :\n",
    "            print(r)\n",
    "\n",
    "get_relationships_by_type('university', 'connects_in')"
   ]
  },
  {
   "cell_type": "markdown",
   "metadata": {},
   "source": [
    "### Créer un noeud"
   ]
  },
  {
   "cell_type": "code",
   "execution_count": 67,
   "metadata": {},
   "outputs": [
    {
     "name": "stdout",
     "output_type": "stream",
     "text": [
      "<Record n=<Node element_id='4:e24570d5-879c-4ca5-b2f2-08d7b506c520:0' labels=frozenset({'university'}) properties={'name': 'Annecy University'}>>\n",
      "<Record n=<Node element_id='4:e24570d5-879c-4ca5-b2f2-08d7b506c520:1' labels=frozenset({'university'}) properties={'name': 'Annecy University'}>>\n",
      "<Record n=<Node element_id='4:e24570d5-879c-4ca5-b2f2-08d7b506c520:16' labels=frozenset({'university'}) properties={'name': 'Cornell University'}>>\n",
      "<Record n=<Node element_id='4:e24570d5-879c-4ca5-b2f2-08d7b506c520:17' labels=frozenset({'university'}) properties={'name': 'Yale University'}>>\n",
      "<Record n=<Node element_id='4:e24570d5-879c-4ca5-b2f2-08d7b506c520:18' labels=frozenset({'university'}) properties={'name': 'Princeton University'}>>\n",
      "<Record n=<Node element_id='4:e24570d5-879c-4ca5-b2f2-08d7b506c520:19' labels=frozenset({'university'}) properties={'name': 'Harvard University'}>>\n"
     ]
    }
   ],
   "source": [
    "def create_node(label,properties):\n",
    "    \"\"\"Permet de créer un noeud avec le label et les propriétés voulues\"\"\"\n",
    "    with graphDB_Driver.session() as session:\n",
    "        session.run(f\"CREATE (:{label} {properties})\")\n",
    "\n",
    "create_node('university',\"{name:'Annecy University'}\")\n",
    "# On vérifie que le noeud a bien été créé\n",
    "get_all_nodes('university')"
   ]
  }
 ],
 "metadata": {
  "kernelspec": {
   "display_name": "Python 3",
   "language": "python",
   "name": "python3"
  },
  "language_info": {
   "codemirror_mode": {
    "name": "ipython",
    "version": 3
   },
   "file_extension": ".py",
   "mimetype": "text/x-python",
   "name": "python",
   "nbconvert_exporter": "python",
   "pygments_lexer": "ipython3",
   "version": "3.11.8"
  }
 },
 "nbformat": 4,
 "nbformat_minor": 2
}
